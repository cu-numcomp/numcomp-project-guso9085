{
 "cells": [
  {
   "cell_type": "markdown",
   "metadata": {},
   "source": [
    "# Project: **Interpolate** \n",
    "**\"[Interpolate](https://github.com/marmelroy/Interpolate) is a powerful Swift interpolation framework for creating interactive gesture-driven animations.\"** This is cool to me because I enjoy mobile development, especially in Swift. I am currently working on my own [Swift project](https://github.com/guso9085/ArtTracker). Feel free to take a look at it!\n",
    "\n",
    "The key idea behind this framework, as described by the creator, is that \"**all animation is interpolation of values over time**\". I have never once considered thinking about animation in this way, and my new understanding of what's going on behind the scenes gives me some ideas of my own."
   ]
  },
  {
   "cell_type": "markdown",
   "metadata": {},
   "source": [
    "## The method\n",
    "\n",
    "The driving force of the project comes from the [Interpolate](https://github.com/marmelroy/Interpolate/blob/master/Interpolate/Interpolate.swift) class and the [Basic Interpolation](https://github.com/marmelroy/Interpolate/blob/master/Interpolate/BasicInterpolation.swift) method.\n",
    "\n",
    "This function, within Basic Interpolation, is the key back and forth with the main class.\n",
    "\n",
    "`public func apply(_ progress: CGFloat) -> CGFloat {\n",
    "        switch self {\n",
    "        case .linear:\n",
    "            return progress\n",
    "        case .easeIn:\n",
    "            return progress*progress*progress\n",
    "        case .easeOut:\n",
    "            return (progress - 1)*(progress - 1)*(progress - 1) + 1.0\n",
    "        case .easeInOut:\n",
    "            if progress < 0.5 {\n",
    "                return 4.0*progress*progress*progress\n",
    "            } else {\n",
    "                let adjustment = (2*progress - 2)\n",
    "                return 0.5 * adjustment * adjustment * adjustment + 1.0\n",
    "            }\n",
    "        }\n",
    "    }\n",
    " `\n",
    "\n",
    "Each case is a type of animation, and it thus has different processes of interpolation over time. This is only one part of the Interpolation process in this library, and the other part is spread out through the Interpolate class. Unfortunately I couldn't pick apart any distinct snippets of code in the class, as it is spread out across many methods. \n",
    "\n",
    "### Note\n",
    "\n",
    "If you find any interesting snippets in the [Interpolate](https://github.com/marmelroy/Interpolate/blob/master/Interpolate/Interpolate.swift) class that continue to illustrate how Interpolation works through out the program, I'd love to see.\n",
    "\n",
    "## Background\n",
    "\n",
    "[Interpolate](https://github.com/marmelroy/Interpolate) as mentioned above is a Swift library. It can be natively imported through XCode and used in projects of mobile development. Out of my own fascination I actually imported it into my own project to try and see if I can make some of my gesture interactions more fun. It was developed by Roy Marmelstein, who appears to work at Spotify out of Stockholm. "
   ]
  },
  {
   "cell_type": "code",
   "execution_count": null,
   "metadata": {},
   "outputs": [],
   "source": []
  }
 ],
 "metadata": {
  "kernelspec": {
   "display_name": "Python 3",
   "language": "python",
   "name": "python3"
  },
  "language_info": {
   "codemirror_mode": {
    "name": "ipython",
    "version": 3
   },
   "file_extension": ".py",
   "mimetype": "text/x-python",
   "name": "python",
   "nbconvert_exporter": "python",
   "pygments_lexer": "ipython3",
   "version": "3.7.3"
  }
 },
 "nbformat": 4,
 "nbformat_minor": 4
}
